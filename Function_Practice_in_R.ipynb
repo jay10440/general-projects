{
  "nbformat": 4,
  "nbformat_minor": 0,
  "metadata": {
    "colab": {
      "provenance": [],
      "authorship_tag": "ABX9TyORhXNFsQk+Nr/0DNSQib9f",
      "include_colab_link": true
    },
    "kernelspec": {
      "name": "ir",
      "display_name": "R"
    },
    "language_info": {
      "name": "R"
    }
  },
  "cells": [
    {
      "cell_type": "markdown",
      "metadata": {
        "id": "view-in-github",
        "colab_type": "text"
      },
      "source": [
        "<a href=\"https://colab.research.google.com/github/jay10440/general-projects/blob/main/Function_Practice_in_R.ipynb\" target=\"_parent\"><img src=\"https://colab.research.google.com/assets/colab-badge.svg\" alt=\"Open In Colab\"/></a>"
      ]
    },
    {
      "cell_type": "markdown",
      "source": [
        "#Creating Beginner to Advanced Functions in R"
      ],
      "metadata": {
        "id": "Iz8P-xq97c5-"
      }
    },
    {
      "cell_type": "markdown",
      "source": [
        "This won't be the typical Textbook style tutorial. Instead we'll just work an ensemble of things. Starting from easy to harder, we'll get some good practice in with creating functions with R. Automation makes life easier after all..."
      ],
      "metadata": {
        "id": "lHuQMmOk7iP2"
      }
    },
    {
      "cell_type": "code",
      "execution_count": 1,
      "metadata": {
        "colab": {
          "base_uri": "https://localhost:8080/"
        },
        "id": "tzLB0ejH7cE7",
        "outputId": "6457daae-2803-4504-ca37-f7fe33d0270d"
      },
      "outputs": [
        {
          "output_type": "stream",
          "name": "stderr",
          "text": [
            "Installing packages into ‘/usr/local/lib/R/site-library’\n",
            "(as ‘lib’ is unspecified)\n",
            "\n",
            "Warning message:\n",
            "“packages ‘base’, ‘stats’ are base packages, and should not be updated”\n"
          ]
        }
      ],
      "source": [
        "#As always, starting with packages:\n",
        "install.packages(c(\"base\",\"stats\",\"ggplot2\",\"dplyr\",\"purrr\",\"stringr\",\"rlang\"\n",
        ",\"testthat\",\"magrittr\",\"pacman\"))"
      ]
    },
    {
      "cell_type": "code",
      "source": [
        "pacman::p_load(base,stats,ggplot2,dplyr,purrr,stringr,rlang,testthat,magrittr)"
      ],
      "metadata": {
        "id": "CdaM55np9aeY"
      },
      "execution_count": 2,
      "outputs": []
    },
    {
      "cell_type": "markdown",
      "source": [
        "#Beginner Functions"
      ],
      "metadata": {
        "id": "9Kf9PYAoE03S"
      }
    },
    {
      "cell_type": "markdown",
      "source": [
        "Starting on easy level. First, notation:\n",
        "\n",
        "`functionname <- function(argument1, argument2,... =default_value) {\n",
        "  inputs function stuff, the whole thing\n",
        "  return(result)\n",
        "}`\n",
        "\n",
        "Here, functionname is whatever you want to call it (we'll learn the hard way what's not allowed lol). Arguments are the variables (and if they have assigned numbers). You can generally put in as many as you like. Let's try with a few simple examples.\n"
      ],
      "metadata": {
        "id": "T_1sY-bD-JMh"
      }
    },
    {
      "cell_type": "code",
      "source": [
        "#Linear function\n",
        "linfunc<- function(x,m=10,b=11){\n",
        "  linfunc<- m*x+b\n",
        "  return(linfunc)\n",
        "}\n",
        "#trying a few examples:\n",
        "linfunc(3)\n",
        "linfunc(11)"
      ],
      "metadata": {
        "colab": {
          "base_uri": "https://localhost:8080/",
          "height": 52
        },
        "id": "3mFD_xs8-DSo",
        "outputId": "d918ad44-0e7b-4763-fd51-6718d85b2695"
      },
      "execution_count": 8,
      "outputs": [
        {
          "output_type": "display_data",
          "data": {
            "text/html": [
              "41"
            ],
            "text/markdown": "41",
            "text/latex": "41",
            "text/plain": [
              "[1] 41"
            ]
          },
          "metadata": {}
        },
        {
          "output_type": "display_data",
          "data": {
            "text/html": [
              "121"
            ],
            "text/markdown": "121",
            "text/latex": "121",
            "text/plain": [
              "[1] 121"
            ]
          },
          "metadata": {}
        }
      ]
    },
    {
      "cell_type": "code",
      "source": [
        "#Trying a fancy function:\n",
        "sine<- function(x,a=4){\n",
        "  sine<- sin(a*x)\n",
        "  return(sine)\n",
        "}\n",
        "sin(0)\n",
        "sin(pi)\n",
        "sin(pi/2)"
      ],
      "metadata": {
        "colab": {
          "base_uri": "https://localhost:8080/",
          "height": 69
        },
        "id": "9dkaU12I_wAf",
        "outputId": "86d27337-d84e-413a-bb15-59b5081144a3"
      },
      "execution_count": 9,
      "outputs": [
        {
          "output_type": "display_data",
          "data": {
            "text/html": [
              "0"
            ],
            "text/markdown": "0",
            "text/latex": "0",
            "text/plain": [
              "[1] 0"
            ]
          },
          "metadata": {}
        },
        {
          "output_type": "display_data",
          "data": {
            "text/html": [
              "1.22464679914735e-16"
            ],
            "text/markdown": "1.22464679914735e-16",
            "text/latex": "1.22464679914735e-16",
            "text/plain": [
              "[1] 1.224647e-16"
            ]
          },
          "metadata": {}
        },
        {
          "output_type": "display_data",
          "data": {
            "text/html": [
              "1"
            ],
            "text/markdown": "1",
            "text/latex": "1",
            "text/plain": [
              "[1] 1"
            ]
          },
          "metadata": {}
        }
      ]
    },
    {
      "cell_type": "markdown",
      "source": [
        "Here's a few practice problems.\n",
        "\n",
        "1. Create a function that cubes a number.\n",
        "2. Create a function that converts celcius to farenheit.\n",
        "3. Create a function that computes the area given radius.\n",
        "4. Create a function that takes the max of two real numbers.\n",
        "5. Creat a function that determines whether a number is even or not."
      ],
      "metadata": {
        "id": "cHgCZzw7B0VZ"
      }
    },
    {
      "cell_type": "code",
      "source": [
        "cuber<-function(x){c<-x^3\n",
        "return(result)}\n",
        "cuber(4)"
      ],
      "metadata": {
        "colab": {
          "base_uri": "https://localhost:8080/",
          "height": 34
        },
        "id": "ispYQwxn_-U4",
        "outputId": "027f5f57-af89-4967-815a-ca788ccf1327"
      },
      "execution_count": 13,
      "outputs": [
        {
          "output_type": "display_data",
          "data": {
            "text/html": [
              "64"
            ],
            "text/markdown": "64",
            "text/latex": "64",
            "text/plain": [
              "[1] 64"
            ]
          },
          "metadata": {}
        }
      ]
    },
    {
      "cell_type": "code",
      "source": [
        "Fahr<- function(Cel){\n",
        "  Fahr<- (9/5)*Cel+32\n",
        "  return(result)\n",
        "}\n",
        "Fahr(100)"
      ],
      "metadata": {
        "colab": {
          "base_uri": "https://localhost:8080/",
          "height": 34
        },
        "id": "GchLLkrvCR9B",
        "outputId": "e1498cb1-fa69-4de1-db5d-b40e81bc8dc6"
      },
      "execution_count": 16,
      "outputs": [
        {
          "output_type": "display_data",
          "data": {
            "text/html": [
              "212"
            ],
            "text/markdown": "212",
            "text/latex": "212",
            "text/plain": [
              "[1] 212"
            ]
          },
          "metadata": {}
        }
      ]
    },
    {
      "cell_type": "code",
      "source": [
        "Area<- function(r){\n",
        "  Area<- pi*r^2\n",
        "  return(result)\n",
        "}\n",
        "Area(4)"
      ],
      "metadata": {
        "colab": {
          "base_uri": "https://localhost:8080/",
          "height": 34
        },
        "id": "UShh91RfDdVx",
        "outputId": "b6b4169f-9125-4593-81a0-a4602b0c3b03"
      },
      "execution_count": 17,
      "outputs": [
        {
          "output_type": "display_data",
          "data": {
            "text/html": [
              "50.2654824574367"
            ],
            "text/markdown": "50.2654824574367",
            "text/latex": "50.2654824574367",
            "text/plain": [
              "[1] 50.26548"
            ]
          },
          "metadata": {}
        }
      ]
    },
    {
      "cell_type": "code",
      "source": [
        "Maxfunction<- function(x,y){\n",
        "  maxfunction<- max(x,y)\n",
        "  return(result)\n",
        "}\n",
        "Maxfunction(-11,22)"
      ],
      "metadata": {
        "colab": {
          "base_uri": "https://localhost:8080/",
          "height": 34
        },
        "id": "i1cC_66vDrSJ",
        "outputId": "fbe3877b-fc65-4d8b-b0bd-332d40889f0a"
      },
      "execution_count": 18,
      "outputs": [
        {
          "output_type": "display_data",
          "data": {
            "text/html": [
              "22"
            ],
            "text/markdown": "22",
            "text/latex": "22",
            "text/plain": [
              "[1] 22"
            ]
          },
          "metadata": {}
        }
      ]
    },
    {
      "cell_type": "code",
      "source": [
        "isiteven<- function(x){\n",
        "  isiteven<- x %% 2\n",
        "  return(result)\n",
        "}\n",
        "isiteven(13)"
      ],
      "metadata": {
        "colab": {
          "base_uri": "https://localhost:8080/",
          "height": 34
        },
        "id": "Jznj6X7BD2wx",
        "outputId": "cba0cf30-0378-41d2-f1f0-644b07a53401"
      },
      "execution_count": 19,
      "outputs": [
        {
          "output_type": "display_data",
          "data": {
            "text/html": [
              "1"
            ],
            "text/markdown": "1",
            "text/latex": "1",
            "text/plain": [
              "[1] 1"
            ]
          },
          "metadata": {}
        }
      ]
    },
    {
      "cell_type": "markdown",
      "source": [
        "#Intermediate Functions"
      ],
      "metadata": {
        "id": "tZd2djD2ExNq"
      }
    },
    {
      "cell_type": "markdown",
      "source": [
        "We'll introduce if-else and for loops. Here are some basic examples:"
      ],
      "metadata": {
        "id": "sGq9uhp_Fet6"
      }
    },
    {
      "cell_type": "code",
      "source": [
        "#Is the number positive or negative?\n",
        "bin_number <- function(x){\n",
        "  if (x<0) { return(\"negative\")}\n",
        "  else if (x==0) {return(\"zero\")}\n",
        "  else {return(\"positive\")}\n",
        "}\n",
        "bin_number(11)\n",
        "bin_number(0)\n",
        "bin_number(-44)"
      ],
      "metadata": {
        "colab": {
          "base_uri": "https://localhost:8080/",
          "height": 69
        },
        "id": "8OwCSuVDEHbB",
        "outputId": "78d2fbd1-070f-4788-c3a5-5615529e67ed"
      },
      "execution_count": 24,
      "outputs": [
        {
          "output_type": "display_data",
          "data": {
            "text/html": [
              "'positive'"
            ],
            "text/markdown": "'positive'",
            "text/latex": "'positive'",
            "text/plain": [
              "[1] \"positive\""
            ]
          },
          "metadata": {}
        },
        {
          "output_type": "display_data",
          "data": {
            "text/html": [
              "'zero'"
            ],
            "text/markdown": "'zero'",
            "text/latex": "'zero'",
            "text/plain": [
              "[1] \"zero\""
            ]
          },
          "metadata": {}
        },
        {
          "output_type": "display_data",
          "data": {
            "text/html": [
              "'negative'"
            ],
            "text/markdown": "'negative'",
            "text/latex": "'negative'",
            "text/plain": [
              "[1] \"negative\""
            ]
          },
          "metadata": {}
        }
      ]
    },
    {
      "cell_type": "markdown",
      "source": [
        "Important note about the loops: We have to start with a base value, else the code will act a fool lol. It's just how we do it in calc 2 and wherever else."
      ],
      "metadata": {
        "id": "b-uUpbIhGZvL"
      }
    },
    {
      "cell_type": "markdown",
      "source": [
        "Creating:\n",
        "$$\\sum_{i=1}^n i=1+2+...+n$$"
      ],
      "metadata": {
        "id": "Wv0K7zvoHMBe"
      }
    },
    {
      "cell_type": "code",
      "source": [
        "#Basic Summation in n terms\n",
        "sum_n <- function(n){\n",
        "  total<-0 #Starting value\n",
        "  for (i in 1:n) { #Opening the loop, looping from 1 to n\n",
        "    total <- total + i #Sum each number starting with the total\n",
        "  }\n",
        "  return(total)\n",
        "}\n",
        "sum_n(3)\n",
        "sum_n(30)"
      ],
      "metadata": {
        "colab": {
          "base_uri": "https://localhost:8080/",
          "height": 52
        },
        "id": "aDo7bFU4GBq6",
        "outputId": "48e3a2fa-6479-4bb6-b09d-bd1047090ea4"
      },
      "execution_count": 28,
      "outputs": [
        {
          "output_type": "display_data",
          "data": {
            "text/html": [
              "6"
            ],
            "text/markdown": "6",
            "text/latex": "6",
            "text/plain": [
              "[1] 6"
            ]
          },
          "metadata": {}
        },
        {
          "output_type": "display_data",
          "data": {
            "text/html": [
              "465"
            ],
            "text/markdown": "465",
            "text/latex": "465",
            "text/plain": [
              "[1] 465"
            ]
          },
          "metadata": {}
        }
      ]
    },
    {
      "cell_type": "code",
      "source": [],
      "metadata": {
        "id": "DNCCukAoGwJa"
      },
      "execution_count": null,
      "outputs": []
    }
  ]
}