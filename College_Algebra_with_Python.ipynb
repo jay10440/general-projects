{
  "nbformat": 4,
  "nbformat_minor": 0,
  "metadata": {
    "colab": {
      "provenance": [],
      "authorship_tag": "ABX9TyNTTkTZ5YMcdvXwhHj/rMh3",
      "include_colab_link": true
    },
    "kernelspec": {
      "name": "python3",
      "display_name": "Python 3"
    },
    "language_info": {
      "name": "python"
    }
  },
  "cells": [
    {
      "cell_type": "markdown",
      "metadata": {
        "id": "view-in-github",
        "colab_type": "text"
      },
      "source": [
        "<a href=\"https://colab.research.google.com/github/jay10440/general-projects/blob/main/College_Algebra_with_Python.ipynb\" target=\"_parent\"><img src=\"https://colab.research.google.com/assets/colab-badge.svg\" alt=\"Open In Colab\"/></a>"
      ]
    },
    {
      "cell_type": "markdown",
      "source": [
        "Here is an example of LaTeX coding: $\\sum_{n=0}^\\infty x^n $."
      ],
      "metadata": {
        "id": "_V0olOixKaB7"
      }
    },
    {
      "cell_type": "code",
      "source": [],
      "metadata": {
        "id": "HzR_-lAuKnDu"
      },
      "execution_count": null,
      "outputs": []
    },
    {
      "cell_type": "markdown",
      "source": [],
      "metadata": {
        "id": "-8kX4qFBKZ8z"
      }
    },
    {
      "cell_type": "markdown",
      "source": [
        "# Section 1:Proportions"
      ],
      "metadata": {
        "id": "nlQX1IicMwCo"
      }
    },
    {
      "cell_type": "markdown",
      "source": [
        "The proportions can be written as $\\frac{a}{b} = \\frac{c}{d}$. This can be used to find missing unknowns and also for unit conversions"
      ],
      "metadata": {
        "id": "uqZxQ20lOTQH"
      }
    },
    {
      "cell_type": "code",
      "source": [
        "#Put a zero in for the unknown value\n",
        "n1=1\n",
        "d1=2\n",
        "n2=0\n",
        "d2=16\n",
        "\n",
        "if n2==0:\n",
        "    answer= d2*n1/d1\n",
        "    print(\"n2=\", answer)\n",
        "\n",
        "n3=1\n",
        "d3=2\n",
        "n4=4\n",
        "d4=0\n",
        "\n",
        "if d4==0:\n",
        "    answer2=n4*d3/n3\n",
        "    print(\"d4=\",answer2)\n"
      ],
      "metadata": {
        "colab": {
          "base_uri": "https://localhost:8080/"
        },
        "id": "GeSYgwwxNdqx",
        "outputId": "fbad9264-9537-495f-bd95-c35a69505291"
      },
      "execution_count": null,
      "outputs": [
        {
          "output_type": "stream",
          "name": "stdout",
          "text": [
            "n2= 8.0\n",
            "d4= 8.0\n"
          ]
        }
      ]
    },
    {
      "cell_type": "markdown",
      "source": [
        "We can also store values as variables. For example, $x=(1+2/3 + 3 + 4/5 -7)$. How do we deal with fractions that keep repeating? Consider when x=.6666666. Then $10x=6.666666...$ So then if I subtract these: $10x-x=9x=6$. So then we have $x=6/9=2/3$. How do we deal with this in code?"
      ],
      "metadata": {
        "id": "gAhlHF28QZVd"
      }
    },
    {
      "cell_type": "markdown",
      "source": [
        "# Section 2: Solving for an Unknown Variable"
      ],
      "metadata": {
        "id": "-hIivkqCSOFP"
      }
    },
    {
      "cell_type": "code",
      "source": [
        "#Packages\n",
        "import sympy\n",
        "from sympy import symbols\n",
        "from sympy.solvers import solve"
      ],
      "metadata": {
        "id": "nLxJ50JpTkHn"
      },
      "execution_count": null,
      "outputs": []
    },
    {
      "cell_type": "markdown",
      "source": [
        "Here's how to solve equations, things like $x+3=11$."
      ],
      "metadata": {
        "id": "bmdnI-iodwZu"
      }
    },
    {
      "cell_type": "code",
      "source": [
        "x=symbols('x')\n",
        "\n",
        "# Put the equation here\n",
        "eq = x-2\n",
        "\n",
        "print(\"x = \", solve(eq,x))\n",
        "\n",
        "eq1=x**2 -17\n",
        "print(\"x= \", solve(eq1,x))\n",
        "\n",
        "eq2=2*x-11\n",
        "print(\"x= \", solve(eq2,x))\n",
        "\n",
        "#More Practice\n",
        "\n",
        "eq3=2*x**2 + 1\n",
        "solve(eq3,x)\n",
        "\n",
        "#OK, let's fancy this up!\n",
        "\n",
        "#y=symbols('y')\n",
        "#eq4=input(\"Enter equation: 0 = \")\n",
        "#print(\"y = \", solve(eq4,y) )\n",
        "\n",
        "#Fancy this up some more...\n",
        "\n",
        "z=symbols('z')\n",
        "eq5=2*z-4\n",
        "eq6=13*z-13\n",
        "#to index with more than one object, use square [] brackets!\n",
        "solutions=[solve(eq5,z), solve(eq6,z)]\n",
        "print(\"z = \", solutions[0])\n",
        "print(\"z = \", solutions[1])\n",
        "print(\"z = \", solutions)\n",
        "# If I wanted to do a \"for\" loop:\n",
        "q=symbols('q')\n",
        "eq7= input('Enter equation: 0= ')\n",
        "solution2=solve(eq7,q)\n",
        "for s in solution2:\n",
        "  print(\"q = \", s)"
      ],
      "metadata": {
        "colab": {
          "base_uri": "https://localhost:8080/"
        },
        "id": "BQoZDGBMQjOY",
        "outputId": "932531d1-9de0-424b-b060-1ef416913cf0"
      },
      "execution_count": null,
      "outputs": [
        {
          "output_type": "stream",
          "name": "stdout",
          "text": [
            "x =  [2]\n",
            "x=  [-sqrt(17), sqrt(17)]\n",
            "x=  [11/2]\n",
            "z =  [2]\n",
            "z =  [1]\n",
            "z =  [[2], [1]]\n",
            "Enter equation: 0= (q+4)*(q-2)*(q-3)\n",
            "q =  -4\n",
            "q =  2\n",
            "q =  3\n"
          ]
        }
      ]
    },
    {
      "cell_type": "code",
      "source": [
        "#Trying a systems of equations using sp.Eq:\n",
        "import sympy as sp\n",
        "from sympy.solvers import solve\n",
        "#Define these first! Note, you gotta have the spaces and it needs to be exactly sp.symbols or python will hissyfit\n",
        "x, y= sp.symbols('x y')\n",
        "#For some reason, we gotta input the stupid ,0 in the end when using this...1\n",
        "eq1= sp.Eq(x-2/3*y-1/3*0,0)\n",
        "eq2 = sp.Eq(1/3*x-y+2/3,0)\n",
        "output = solve([eq1,eq2],dict=True)\n",
        "output[0]"
      ],
      "metadata": {
        "colab": {
          "base_uri": "https://localhost:8080/"
        },
        "id": "f5PxfMeegM8a",
        "outputId": "551a663a-8a68-4fcf-debc-1e67492362d6"
      },
      "execution_count": null,
      "outputs": [
        {
          "output_type": "execute_result",
          "data": {
            "text/plain": [
              "{x: 0.571428571428571, y: 0.857142857142857}"
            ]
          },
          "metadata": {},
          "execution_count": 48
        }
      ]
    },
    {
      "cell_type": "markdown",
      "source": [
        "Timestamp 49:25"
      ],
      "metadata": {
        "id": "ObDXK_PFlU4f"
      }
    },
    {
      "cell_type": "code",
      "source": [],
      "metadata": {
        "id": "wqNJWOQflaQf"
      },
      "execution_count": null,
      "outputs": []
    }
  ]
}