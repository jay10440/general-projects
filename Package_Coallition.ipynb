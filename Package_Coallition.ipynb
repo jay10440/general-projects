{
  "nbformat": 4,
  "nbformat_minor": 0,
  "metadata": {
    "colab": {
      "provenance": [],
      "authorship_tag": "ABX9TyNYBN9uzyMFq76bJ10aw2NE",
      "include_colab_link": true
    },
    "kernelspec": {
      "name": "python3",
      "display_name": "Python 3"
    },
    "language_info": {
      "name": "python"
    }
  },
  "cells": [
    {
      "cell_type": "markdown",
      "metadata": {
        "id": "view-in-github",
        "colab_type": "text"
      },
      "source": [
        "<a href=\"https://colab.research.google.com/github/jay10440/general-projects/blob/main/Package_Coallition.ipynb\" target=\"_parent\"><img src=\"https://colab.research.google.com/assets/colab-badge.svg\" alt=\"Open In Colab\"/></a>"
      ]
    },
    {
      "cell_type": "markdown",
      "source": [
        "#R Package List/Compendium\n",
        "\n",
        "This is a list of codes for relevant packages to use when doing data analysis, data cleaning, etc.\n",
        "\n",
        "##Basic Data Analysis and Semi-Fancy Plots:\n",
        "`install.packages(c(\"dplyr\",\"ggplot2\",\"readr\",\"pacman\"))\n",
        "install.packages(c(\"graphics\",\"grid\",\"gridExtra\"))\n",
        "install.packages(\"patchwork\")`\n",
        "\n",
        "##Forecasting and Time Series:\n",
        "`install.packages(\"forecast\")\n",
        "stall.packages(\"tidyverse\")\n",
        "install.packages(\"TSStudio\")\n",
        "install.packages(\"prophet\")\n",
        "install.packages(\"TSeries\")\n",
        "install.packages(\"zoo\")\n",
        "install.packages(\"xts\")\n",
        "install.packages(\"lubridate\")\n",
        "install.packages(\"ggplot2\")\n",
        "install.packages(\"data.table\")`\n",
        "\n",
        "##Bootstrapping and Regression:\n",
        "`install.packages(\"MASS\")\n",
        "install.packages(\"tidyverse\")\n",
        "install.packages(\"ISLR\")`\n",
        "\n",
        "##Performing Markov Chains\n",
        "`install.packages(\"markovchain\")`\n",
        "\n",
        "##Validation Methods:\n",
        "`install.packages(\"ISLR\")\n",
        "install.packages(\"tidyverse\")\n",
        "install.packages(\"MASS\")\n",
        "install.packages(\"ISLR2\")`\n",
        "\n",
        "##Others\n",
        "`install.packages(c(\"base\",\"stats\",\"ggplot2\",\"dplyr\",\"purrr\",\"stringr\",\"rlang\"\n",
        ",\"testthat\",\"magrittr\",\"pacman\"))`\n",
        "\n"
      ],
      "metadata": {
        "id": "OumW3vOJhYK3"
      }
    },
    {
      "cell_type": "code",
      "execution_count": null,
      "metadata": {
        "id": "-wjPN4P0hQM2"
      },
      "outputs": [],
      "source": []
    }
  ]
}